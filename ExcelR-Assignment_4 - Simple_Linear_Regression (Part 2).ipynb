{
 "cells": [
  {
   "cell_type": "markdown",
   "id": "ed6d4247",
   "metadata": {},
   "source": [
    "## Salary_hike -> Build a prediction model for Salary_hike\n"
   ]
  },
  {
   "cell_type": "markdown",
   "id": "0863a04b",
   "metadata": {},
   "source": [
    "#### Import necessary libraries"
   ]
  },
  {
   "cell_type": "code",
   "execution_count": 16,
   "id": "3ad5a709",
   "metadata": {},
   "outputs": [],
   "source": [
    "import numpy as np\n",
    "import pandas as pd\n",
    "import matplotlib.pyplot as plt\n",
    "import seaborn as sns\n",
    "import warnings\n",
    "warnings.filterwarnings\n",
    "%matplotlib inline"
   ]
  },
  {
   "cell_type": "markdown",
   "id": "44308dce",
   "metadata": {},
   "source": [
    "#### Reading the dataset"
   ]
  },
  {
   "cell_type": "code",
   "execution_count": 17,
   "id": "24be579e",
   "metadata": {},
   "outputs": [
    {
     "data": {
      "text/html": [
       "<div>\n",
       "<style scoped>\n",
       "    .dataframe tbody tr th:only-of-type {\n",
       "        vertical-align: middle;\n",
       "    }\n",
       "\n",
       "    .dataframe tbody tr th {\n",
       "        vertical-align: top;\n",
       "    }\n",
       "\n",
       "    .dataframe thead th {\n",
       "        text-align: right;\n",
       "    }\n",
       "</style>\n",
       "<table border=\"1\" class=\"dataframe\">\n",
       "  <thead>\n",
       "    <tr style=\"text-align: right;\">\n",
       "      <th></th>\n",
       "      <th>YearsExperience</th>\n",
       "      <th>Salary</th>\n",
       "    </tr>\n",
       "  </thead>\n",
       "  <tbody>\n",
       "    <tr>\n",
       "      <th>0</th>\n",
       "      <td>1.1</td>\n",
       "      <td>39343.0</td>\n",
       "    </tr>\n",
       "    <tr>\n",
       "      <th>1</th>\n",
       "      <td>1.3</td>\n",
       "      <td>46205.0</td>\n",
       "    </tr>\n",
       "    <tr>\n",
       "      <th>2</th>\n",
       "      <td>1.5</td>\n",
       "      <td>37731.0</td>\n",
       "    </tr>\n",
       "    <tr>\n",
       "      <th>3</th>\n",
       "      <td>2.0</td>\n",
       "      <td>43525.0</td>\n",
       "    </tr>\n",
       "    <tr>\n",
       "      <th>4</th>\n",
       "      <td>2.2</td>\n",
       "      <td>39891.0</td>\n",
       "    </tr>\n",
       "    <tr>\n",
       "      <th>5</th>\n",
       "      <td>2.9</td>\n",
       "      <td>56642.0</td>\n",
       "    </tr>\n",
       "    <tr>\n",
       "      <th>6</th>\n",
       "      <td>3.0</td>\n",
       "      <td>60150.0</td>\n",
       "    </tr>\n",
       "    <tr>\n",
       "      <th>7</th>\n",
       "      <td>3.2</td>\n",
       "      <td>54445.0</td>\n",
       "    </tr>\n",
       "    <tr>\n",
       "      <th>8</th>\n",
       "      <td>3.2</td>\n",
       "      <td>64445.0</td>\n",
       "    </tr>\n",
       "    <tr>\n",
       "      <th>9</th>\n",
       "      <td>3.7</td>\n",
       "      <td>57189.0</td>\n",
       "    </tr>\n",
       "  </tbody>\n",
       "</table>\n",
       "</div>"
      ],
      "text/plain": [
       "   YearsExperience   Salary\n",
       "0              1.1  39343.0\n",
       "1              1.3  46205.0\n",
       "2              1.5  37731.0\n",
       "3              2.0  43525.0\n",
       "4              2.2  39891.0\n",
       "5              2.9  56642.0\n",
       "6              3.0  60150.0\n",
       "7              3.2  54445.0\n",
       "8              3.2  64445.0\n",
       "9              3.7  57189.0"
      ]
     },
     "execution_count": 17,
     "metadata": {},
     "output_type": "execute_result"
    }
   ],
   "source": [
    "data = pd.read_csv(\"Salary_Data.csv\")\n",
    "data.head(10)"
   ]
  },
  {
   "cell_type": "markdown",
   "id": "114228b0",
   "metadata": {},
   "source": [
    "#### Shape of dataset"
   ]
  },
  {
   "cell_type": "code",
   "execution_count": 18,
   "id": "3f91aa2e",
   "metadata": {},
   "outputs": [
    {
     "data": {
      "text/plain": [
       "(30, 2)"
      ]
     },
     "execution_count": 18,
     "metadata": {},
     "output_type": "execute_result"
    }
   ],
   "source": [
    "data.shape"
   ]
  },
  {
   "cell_type": "markdown",
   "id": "a266815c",
   "metadata": {},
   "source": [
    "#### Information of dataset "
   ]
  },
  {
   "cell_type": "code",
   "execution_count": 19,
   "id": "700288c1",
   "metadata": {},
   "outputs": [
    {
     "name": "stdout",
     "output_type": "stream",
     "text": [
      "<class 'pandas.core.frame.DataFrame'>\n",
      "RangeIndex: 30 entries, 0 to 29\n",
      "Data columns (total 2 columns):\n",
      " #   Column           Non-Null Count  Dtype  \n",
      "---  ------           --------------  -----  \n",
      " 0   YearsExperience  30 non-null     float64\n",
      " 1   Salary           30 non-null     float64\n",
      "dtypes: float64(2)\n",
      "memory usage: 608.0 bytes\n"
     ]
    }
   ],
   "source": [
    "data.info()"
   ]
  },
  {
   "cell_type": "markdown",
   "id": "56ee8851",
   "metadata": {},
   "source": [
    "#### Description of dataset"
   ]
  },
  {
   "cell_type": "code",
   "execution_count": 20,
   "id": "7b18b660",
   "metadata": {},
   "outputs": [
    {
     "data": {
      "text/html": [
       "<div>\n",
       "<style scoped>\n",
       "    .dataframe tbody tr th:only-of-type {\n",
       "        vertical-align: middle;\n",
       "    }\n",
       "\n",
       "    .dataframe tbody tr th {\n",
       "        vertical-align: top;\n",
       "    }\n",
       "\n",
       "    .dataframe thead th {\n",
       "        text-align: right;\n",
       "    }\n",
       "</style>\n",
       "<table border=\"1\" class=\"dataframe\">\n",
       "  <thead>\n",
       "    <tr style=\"text-align: right;\">\n",
       "      <th></th>\n",
       "      <th>YearsExperience</th>\n",
       "      <th>Salary</th>\n",
       "    </tr>\n",
       "  </thead>\n",
       "  <tbody>\n",
       "    <tr>\n",
       "      <th>count</th>\n",
       "      <td>30.000000</td>\n",
       "      <td>30.000000</td>\n",
       "    </tr>\n",
       "    <tr>\n",
       "      <th>mean</th>\n",
       "      <td>5.313333</td>\n",
       "      <td>76003.000000</td>\n",
       "    </tr>\n",
       "    <tr>\n",
       "      <th>std</th>\n",
       "      <td>2.837888</td>\n",
       "      <td>27414.429785</td>\n",
       "    </tr>\n",
       "    <tr>\n",
       "      <th>min</th>\n",
       "      <td>1.100000</td>\n",
       "      <td>37731.000000</td>\n",
       "    </tr>\n",
       "    <tr>\n",
       "      <th>25%</th>\n",
       "      <td>3.200000</td>\n",
       "      <td>56720.750000</td>\n",
       "    </tr>\n",
       "    <tr>\n",
       "      <th>50%</th>\n",
       "      <td>4.700000</td>\n",
       "      <td>65237.000000</td>\n",
       "    </tr>\n",
       "    <tr>\n",
       "      <th>75%</th>\n",
       "      <td>7.700000</td>\n",
       "      <td>100544.750000</td>\n",
       "    </tr>\n",
       "    <tr>\n",
       "      <th>max</th>\n",
       "      <td>10.500000</td>\n",
       "      <td>122391.000000</td>\n",
       "    </tr>\n",
       "  </tbody>\n",
       "</table>\n",
       "</div>"
      ],
      "text/plain": [
       "       YearsExperience         Salary\n",
       "count        30.000000      30.000000\n",
       "mean          5.313333   76003.000000\n",
       "std           2.837888   27414.429785\n",
       "min           1.100000   37731.000000\n",
       "25%           3.200000   56720.750000\n",
       "50%           4.700000   65237.000000\n",
       "75%           7.700000  100544.750000\n",
       "max          10.500000  122391.000000"
      ]
     },
     "execution_count": 20,
     "metadata": {},
     "output_type": "execute_result"
    }
   ],
   "source": [
    "data.describe()"
   ]
  },
  {
   "cell_type": "markdown",
   "id": "c53808b6",
   "metadata": {},
   "source": [
    "#### Visualizing the dataset"
   ]
  },
  {
   "cell_type": "code",
   "execution_count": 21,
   "id": "a9e6f339",
   "metadata": {},
   "outputs": [
    {
     "name": "stderr",
     "output_type": "stream",
     "text": [
      "C:\\Users\\D_R\\anaconda3\\lib\\site-packages\\seaborn\\axisgrid.py:1969: UserWarning: The `size` parameter has been renamed to `height`; please update your code.\n",
      "  warnings.warn(msg, UserWarning)\n"
     ]
    },
    {
     "data": {
      "text/plain": [
       "<seaborn.axisgrid.PairGrid at 0x2d907e9a4c0>"
      ]
     },
     "execution_count": 21,
     "metadata": {},
     "output_type": "execute_result"
    },
    {
     "data": {
      "image/png": "[encoded data removed]",
      "text/plain": [
       "<Figure size 720x360 with 1 Axes>"
      ]
     },
     "metadata": {
      "needs_background": "light"
     },
     "output_type": "display_data"
    }
   ],
   "source": [
    "sns.pairplot(data, x_vars = ['YearsExperience'], y_vars = 'Salary', size = 5, aspect = 2, kind = 'scatter')"
   ]
  },
  {
   "cell_type": "markdown",
   "id": "42600de5",
   "metadata": {},
   "source": [
    "#### Visualizing the dataset using Heatmap"
   ]
  },
  {
   "cell_type": "code",
   "execution_count": 22,
   "id": "47ddcd41",
   "metadata": {},
   "outputs": [
    {
     "data": {
      "text/plain": [
       "<AxesSubplot:>"
      ]
     },
     "execution_count": 22,
     "metadata": {},
     "output_type": "execute_result"
    },
    {
     "data": {
      "image/png": "[encoded data removed]",
      "text/plain": [
       "<Figure size 432x288 with 2 Axes>"
      ]
     },
     "metadata": {
      "needs_background": "light"
     },
     "output_type": "display_data"
    }
   ],
   "source": [
    "sns.heatmap(data.corr(), cmap = 'YlGnBu', annot = True)"
   ]
  },
  {
   "cell_type": "markdown",
   "id": "3c596efa",
   "metadata": {},
   "source": [
    "#### We'll assign YearsExperience as X and Salary as Y"
   ]
  },
  {
   "cell_type": "code",
   "execution_count": 23,
   "id": "ac59bdac",
   "metadata": {},
   "outputs": [],
   "source": [
    "A = data['YearsExperience']\n",
    "B = data['Salary']"
   ]
  },
  {
   "cell_type": "markdown",
   "id": "299c0a8a",
   "metadata": {},
   "source": [
    "#### Creating Train and Test sets\n",
    "For this we will import sklearn libraries"
   ]
  },
  {
   "cell_type": "code",
   "execution_count": 24,
   "id": "954d42ad",
   "metadata": {},
   "outputs": [],
   "source": [
    "from sklearn.model_selection import train_test_split"
   ]
  },
  {
   "cell_type": "code",
   "execution_count": 25,
   "id": "ad6b3a0f",
   "metadata": {},
   "outputs": [],
   "source": [
    "A_train, A_test, B_train, B_test = train_test_split(A, B, train_size = 0.7 ,test_size = 0.3, random_state = 100)"
   ]
  },
  {
   "cell_type": "markdown",
   "id": "a3546f18",
   "metadata": {},
   "source": [
    "#### Overview of training dataset"
   ]
  },
  {
   "cell_type": "code",
   "execution_count": 26,
   "id": "cf0d1a02",
   "metadata": {},
   "outputs": [
    {
     "data": {
      "text/plain": [
       "17     5.3\n",
       "22     7.9\n",
       "11     4.0\n",
       "4      2.2\n",
       "29    10.5\n",
       "0      1.1\n",
       "1      1.3\n",
       "18     5.9\n",
       "14     4.5\n",
       "19     6.0\n",
       "21     7.1\n",
       "2      1.5\n",
       "20     6.8\n",
       "10     3.9\n",
       "16     5.1\n",
       "15     4.9\n",
       "23     8.2\n",
       "7      3.2\n",
       "3      2.0\n",
       "24     8.7\n",
       "8      3.2\n",
       "Name: YearsExperience, dtype: float64"
      ]
     },
     "execution_count": 26,
     "metadata": {},
     "output_type": "execute_result"
    }
   ],
   "source": [
    "A_train"
   ]
  },
  {
   "cell_type": "code",
   "execution_count": 27,
   "id": "da04cc0e",
   "metadata": {},
   "outputs": [
    {
     "data": {
      "text/plain": [
       "17     83088.0\n",
       "22    101302.0\n",
       "11     55794.0\n",
       "4      39891.0\n",
       "29    121872.0\n",
       "0      39343.0\n",
       "1      46205.0\n",
       "18     81363.0\n",
       "14     61111.0\n",
       "19     93940.0\n",
       "21     98273.0\n",
       "2      37731.0\n",
       "20     91738.0\n",
       "10     63218.0\n",
       "16     66029.0\n",
       "15     67938.0\n",
       "23    113812.0\n",
       "7      54445.0\n",
       "3      43525.0\n",
       "24    109431.0\n",
       "8      64445.0\n",
       "Name: Salary, dtype: float64"
      ]
     },
     "execution_count": 27,
     "metadata": {},
     "output_type": "execute_result"
    }
   ],
   "source": [
    "B_train"
   ]
  },
  {
   "cell_type": "markdown",
   "id": "229033c7",
   "metadata": {},
   "source": [
    "#### Building and training the model\n",
    "For that we will import statsmodels library."
   ]
  },
  {
   "cell_type": "code",
   "execution_count": 28,
   "id": "7c8f67b6",
   "metadata": {},
   "outputs": [],
   "source": [
    "import statsmodels.api as sm"
   ]
  },
  {
   "cell_type": "markdown",
   "id": "c8da16e5",
   "metadata": {},
   "source": [
    "#### Adding a constant for intercept"
   ]
  },
  {
   "cell_type": "code",
   "execution_count": 29,
   "id": "15ee15a7",
   "metadata": {},
   "outputs": [],
   "source": [
    "A_train_sm = sm.add_constant(A_train)"
   ]
  },
  {
   "cell_type": "markdown",
   "id": "04dd4546",
   "metadata": {},
   "source": [
    "#### Fitting the regression line using 'OLS'"
   ]
  },
  {
   "cell_type": "code",
   "execution_count": 43,
   "id": "7edcb315",
   "metadata": {},
   "outputs": [
    {
     "data": {
      "text/plain": [
       "const              25202.887786\n",
       "YearsExperience     9731.203838\n",
       "dtype: float64"
      ]
     },
     "execution_count": 43,
     "metadata": {},
     "output_type": "execute_result"
    }
   ],
   "source": [
    "model = sm.OLS(B_train, A_train_sm).fit()\n",
    "## Printing the parameters\n",
    "model.params"
   ]
  },
  {
   "cell_type": "code",
   "execution_count": 31,
   "id": "bb1f5c16",
   "metadata": {},
   "outputs": [
    {
     "data": {
      "text/html": [
       "<table class=\"simpletable\">\n",
       "<caption>OLS Regression Results</caption>\n",
       "<tr>\n",
       "  <th>Dep. Variable:</th>         <td>Salary</td>      <th>  R-squared:         </th> <td>   0.949</td>\n",
       "</tr>\n",
       "<tr>\n",
       "  <th>Model:</th>                   <td>OLS</td>       <th>  Adj. R-squared:    </th> <td>   0.946</td>\n",
       "</tr>\n",
       "<tr>\n",
       "  <th>Method:</th>             <td>Least Squares</td>  <th>  F-statistic:       </th> <td>   352.9</td>\n",
       "</tr>\n",
       "<tr>\n",
       "  <th>Date:</th>             <td>Sun, 12 Sep 2021</td> <th>  Prob (F-statistic):</th> <td>9.91e-14</td>\n",
       "</tr>\n",
       "<tr>\n",
       "  <th>Time:</th>                 <td>10:49:52</td>     <th>  Log-Likelihood:    </th> <td> -211.80</td>\n",
       "</tr>\n",
       "<tr>\n",
       "  <th>No. Observations:</th>      <td>    21</td>      <th>  AIC:               </th> <td>   427.6</td>\n",
       "</tr>\n",
       "<tr>\n",
       "  <th>Df Residuals:</th>          <td>    19</td>      <th>  BIC:               </th> <td>   429.7</td>\n",
       "</tr>\n",
       "<tr>\n",
       "  <th>Df Model:</th>              <td>     1</td>      <th>                     </th>     <td> </td>   \n",
       "</tr>\n",
       "<tr>\n",
       "  <th>Covariance Type:</th>      <td>nonrobust</td>    <th>                     </th>     <td> </td>   \n",
       "</tr>\n",
       "</table>\n",
       "<table class=\"simpletable\">\n",
       "<tr>\n",
       "         <td></td>            <th>coef</th>     <th>std err</th>      <th>t</th>      <th>P>|t|</th>  <th>[0.025</th>    <th>0.975]</th>  \n",
       "</tr>\n",
       "<tr>\n",
       "  <th>const</th>           <td>  2.52e+04</td> <td> 2875.387</td> <td>    8.765</td> <td> 0.000</td> <td> 1.92e+04</td> <td> 3.12e+04</td>\n",
       "</tr>\n",
       "<tr>\n",
       "  <th>YearsExperience</th> <td> 9731.2038</td> <td>  517.993</td> <td>   18.786</td> <td> 0.000</td> <td> 8647.033</td> <td> 1.08e+04</td>\n",
       "</tr>\n",
       "</table>\n",
       "<table class=\"simpletable\">\n",
       "<tr>\n",
       "  <th>Omnibus:</th>       <td> 1.843</td> <th>  Durbin-Watson:     </th> <td>   1.749</td>\n",
       "</tr>\n",
       "<tr>\n",
       "  <th>Prob(Omnibus):</th> <td> 0.398</td> <th>  Jarque-Bera (JB):  </th> <td>   1.106</td>\n",
       "</tr>\n",
       "<tr>\n",
       "  <th>Skew:</th>          <td> 0.219</td> <th>  Prob(JB):          </th> <td>   0.575</td>\n",
       "</tr>\n",
       "<tr>\n",
       "  <th>Kurtosis:</th>      <td> 1.964</td> <th>  Cond. No.          </th> <td>    12.3</td>\n",
       "</tr>\n",
       "</table><br/><br/>Notes:<br/>[1] Standard Errors assume that the covariance matrix of the errors is correctly specified."
      ],
      "text/plain": [
       "<class 'statsmodels.iolib.summary.Summary'>\n",
       "\"\"\"\n",
       "                            OLS Regression Results                            \n",
       "==============================================================================\n",
       "Dep. Variable:                 Salary   R-squared:                       0.949\n",
       "Model:                            OLS   Adj. R-squared:                  0.946\n",
       "Method:                 Least Squares   F-statistic:                     352.9\n",
       "Date:                Sun, 12 Sep 2021   Prob (F-statistic):           9.91e-14\n",
       "Time:                        10:49:52   Log-Likelihood:                -211.80\n",
       "No. Observations:                  21   AIC:                             427.6\n",
       "Df Residuals:                      19   BIC:                             429.7\n",
       "Df Model:                           1                                         \n",
       "Covariance Type:            nonrobust                                         \n",
       "===================================================================================\n",
       "                      coef    std err          t      P>|t|      [0.025      0.975]\n",
       "-----------------------------------------------------------------------------------\n",
       "const             2.52e+04   2875.387      8.765      0.000    1.92e+04    3.12e+04\n",
       "YearsExperience  9731.2038    517.993     18.786      0.000    8647.033    1.08e+04\n",
       "==============================================================================\n",
       "Omnibus:                        1.843   Durbin-Watson:                   1.749\n",
       "Prob(Omnibus):                  0.398   Jarque-Bera (JB):                1.106\n",
       "Skew:                           0.219   Prob(JB):                        0.575\n",
       "Kurtosis:                       1.964   Cond. No.                         12.3\n",
       "==============================================================================\n",
       "\n",
       "Notes:\n",
       "[1] Standard Errors assume that the covariance matrix of the errors is correctly specified.\n",
       "\"\"\""
      ]
     },
     "execution_count": 31,
     "metadata": {},
     "output_type": "execute_result"
    }
   ],
   "source": [
    "model.summary()"
   ]
  },
  {
   "cell_type": "markdown",
   "id": "960304a5",
   "metadata": {},
   "source": [
    "#### Visualizing the regression line"
   ]
  },
  {
   "cell_type": "code",
   "execution_count": 32,
   "id": "ab9b9a17",
   "metadata": {},
   "outputs": [
    {
     "data": {
      "text/plain": [
       "[<matplotlib.lines.Line2D at 0x2d907fd8a30>]"
      ]
     },
     "execution_count": 32,
     "metadata": {},
     "output_type": "execute_result"
    },
    {
     "data": {
      "image/png": "[encoded data removed]",
      "text/plain": [
       "<Figure size 432x288 with 1 Axes>"
      ]
     },
     "metadata": {
      "needs_background": "light"
     },
     "output_type": "display_data"
    }
   ],
   "source": [
    "plt.scatter(A_train, B_train)\n",
    "plt.plot(A_train, 2.52e+04 + 9731.2038 * A_train, 'r')"
   ]
  },
  {
   "cell_type": "markdown",
   "id": "a7604dcb",
   "metadata": {},
   "source": [
    "So, we build a simple linear regression model using training data."
   ]
  },
  {
   "cell_type": "markdown",
   "id": "6ee4e0c4",
   "metadata": {},
   "source": [
    "#### Residual Analysis\n",
    "Error = Actual B value - A predicted value"
   ]
  },
  {
   "cell_type": "markdown",
   "id": "b275269f",
   "metadata": {},
   "source": [
    "#### Predicting B_value using training data of A"
   ]
  },
  {
   "cell_type": "code",
   "execution_count": 33,
   "id": "5f9ee41d",
   "metadata": {},
   "outputs": [],
   "source": [
    "B_train_pred = model.predict(A_train_sm)"
   ]
  },
  {
   "cell_type": "markdown",
   "id": "461e2f4f",
   "metadata": {},
   "source": [
    "#### Creating residuals from B_train data and B_predicted data"
   ]
  },
  {
   "cell_type": "code",
   "execution_count": 34,
   "id": "9fa296c3",
   "metadata": {},
   "outputs": [],
   "source": [
    "resd = (B_train - B_train_pred)"
   ]
  },
  {
   "cell_type": "markdown",
   "id": "ce21e60f",
   "metadata": {},
   "source": [
    "#### Plotting histogram for residual to check if its normal distribution or not."
   ]
  },
  {
   "cell_type": "code",
   "execution_count": 35,
   "id": "b7d7b67d",
   "metadata": {},
   "outputs": [
    {
     "name": "stderr",
     "output_type": "stream",
     "text": [
      "C:\\Users\\D_R\\anaconda3\\lib\\site-packages\\seaborn\\distributions.py:2557: FutureWarning: `distplot` is a deprecated function and will be removed in a future version. Please adapt your code to use either `displot` (a figure-level function with similar flexibility) or `histplot` (an axes-level function for histograms).\n",
      "  warnings.warn(msg, FutureWarning)\n"
     ]
    },
    {
     "data": {
      "text/plain": [
       "Text(0.5, 0, 'Residuals')"
      ]
     },
     "execution_count": 35,
     "metadata": {},
     "output_type": "execute_result"
    },
    {
     "data": {
      "image/png": "[encoded data removed]",
      "text/plain": [
       "<Figure size 432x288 with 1 Axes>"
      ]
     },
     "metadata": {
      "needs_background": "light"
     },
     "output_type": "display_data"
    }
   ],
   "source": [
    "fig = plt.figure()\n",
    "sns.distplot(resd, bins= 15)\n",
    "plt.title('Error', fontsize = 15)\n",
    "plt.xlabel('Residuals', fontsize = 15)"
   ]
  },
  {
   "cell_type": "markdown",
   "id": "ed8fdd77",
   "metadata": {},
   "source": [
    "Residuals are following the normal distribution graph with a mean 0."
   ]
  },
  {
   "cell_type": "markdown",
   "id": "a0cede64",
   "metadata": {},
   "source": [
    "#### Check if any patterns in the residuals occurs."
   ]
  },
  {
   "cell_type": "code",
   "execution_count": 36,
   "id": "6aee3316",
   "metadata": {},
   "outputs": [
    {
     "data": {
      "text/plain": [
       "<matplotlib.collections.PathCollection at 0x2d9090d35b0>"
      ]
     },
     "execution_count": 36,
     "metadata": {},
     "output_type": "execute_result"
    },
    {
     "data": {
      "image/png": "[encoded data removed]",
      "text/plain": [
       "<Figure size 432x288 with 1 Axes>"
      ]
     },
     "metadata": {
      "needs_background": "light"
     },
     "output_type": "display_data"
    }
   ],
   "source": [
    "plt.scatter(A_train, resd)"
   ]
  },
  {
   "cell_type": "markdown",
   "id": "a3369ba2",
   "metadata": {},
   "source": [
    "#### Predictions on the Test data"
   ]
  },
  {
   "cell_type": "markdown",
   "id": "496d8af2",
   "metadata": {},
   "source": [
    "#### Adding a constantto A_test"
   ]
  },
  {
   "cell_type": "code",
   "execution_count": 37,
   "id": "2cd3b01d",
   "metadata": {},
   "outputs": [],
   "source": [
    "A_test_sm = sm.add_constant(A_test)"
   ]
  },
  {
   "cell_type": "markdown",
   "id": "b1b713f7",
   "metadata": {},
   "source": [
    "#### Predicting B values corresponding to A_test_sm"
   ]
  },
  {
   "cell_type": "code",
   "execution_count": 38,
   "id": "0e9ee4dd",
   "metadata": {},
   "outputs": [],
   "source": [
    "B_test_pred = model.predict(A_test_sm)"
   ]
  },
  {
   "cell_type": "markdown",
   "id": "c948daf0",
   "metadata": {},
   "source": [
    "#### Showing Some Predicting values"
   ]
  },
  {
   "cell_type": "code",
   "execution_count": 39,
   "id": "5b41e467",
   "metadata": {},
   "outputs": [
    {
     "data": {
      "text/plain": [
       "9      61208.341988\n",
       "26    117649.324249\n",
       "28    125434.287320\n",
       "13     65100.823523\n",
       "5      53423.378917\n",
       "12     64127.703139\n",
       "27    118622.444633\n",
       "25    112783.722330\n",
       "6      54396.499301\n",
       "dtype: float64"
      ]
     },
     "execution_count": 39,
     "metadata": {},
     "output_type": "execute_result"
    }
   ],
   "source": [
    "B_test_pred"
   ]
  },
  {
   "cell_type": "markdown",
   "id": "33432e44",
   "metadata": {},
   "source": [
    "#### Calculating R-squared values for above predicted values\n",
    "For that, we will import sklearn.metrics package"
   ]
  },
  {
   "cell_type": "code",
   "execution_count": 40,
   "id": "45fa87f0",
   "metadata": {},
   "outputs": [],
   "source": [
    "from sklearn.metrics import r2_score"
   ]
  },
  {
   "cell_type": "code",
   "execution_count": 41,
   "id": "9a99832f",
   "metadata": {},
   "outputs": [
    {
     "data": {
      "text/plain": [
       "0.962766868547327"
      ]
     },
     "execution_count": 41,
     "metadata": {},
     "output_type": "execute_result"
    }
   ],
   "source": [
    "r_squared = r2_score(B_test, B_test_pred) \n",
    "r_squared"
   ]
  },
  {
   "cell_type": "markdown",
   "id": "83078267",
   "metadata": {},
   "source": [
    "R-squared value for training data = 0.949\n",
    "\n",
    "R-squared value for testing data = 0.962\n",
    "\n",
    "Since R-squared value of training data and testing data is close, we can conclude that the model is Pretty stable."
   ]
  },
  {
   "cell_type": "markdown",
   "id": "b6841db3",
   "metadata": {},
   "source": [
    "#### Visualizing the line on test data"
   ]
  },
  {
   "cell_type": "code",
   "execution_count": 42,
   "id": "2b20ef8b",
   "metadata": {},
   "outputs": [
    {
     "data": {
      "text/plain": [
       "[<matplotlib.lines.Line2D at 0x2d909131d00>]"
      ]
     },
     "execution_count": 42,
     "metadata": {},
     "output_type": "execute_result"
    },
    {
     "data": {
      "image/png": "[encoded data removed]",
      "text/plain": [
       "<Figure size 432x288 with 1 Axes>"
      ]
     },
     "metadata": {
      "needs_background": "light"
     },
     "output_type": "display_data"
    }
   ],
   "source": [
    "plt.scatter(A_test, B_test)\n",
    "plt.plot(A_test, B_test_pred, 'r')"
   ]
  },
  {
   "cell_type": "code",
   "execution_count": null,
   "id": "ff78a0bf",
   "metadata": {},
   "outputs": [],
   "source": []
  },
  {
   "cell_type": "code",
   "execution_count": null,
   "id": "acf06cc7",
   "metadata": {},
   "outputs": [],
   "source": []
  }
 ],
 "metadata": {
  "kernelspec": {
   "display_name": "Python 3",
   "language": "python",
   "name": "python3"
  },
  "language_info": {
   "codemirror_mode": {
    "name": "ipython",
    "version": 3
   },
   "file_extension": ".py",
   "mimetype": "text/x-python",
   "name": "python",
   "nbconvert_exporter": "python",
   "pygments_lexer": "ipython3",
   "version": "3.8.8"
  }
 },
 "nbformat": 4,
 "nbformat_minor": 5
}
